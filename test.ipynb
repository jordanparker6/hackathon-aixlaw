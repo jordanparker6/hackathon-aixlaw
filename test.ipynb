{
 "cells": [
  {
   "cell_type": "code",
   "execution_count": 7,
   "metadata": {},
   "outputs": [
    {
     "data": {
      "text/plain": [
       "True"
      ]
     },
     "execution_count": 7,
     "metadata": {},
     "output_type": "execute_result"
    }
   ],
   "source": [
    "import os\n",
    "from dotenv import load_dotenv\n",
    "from langchain.embeddings.openai import OpenAIEmbeddings\n",
    "from langchain.text_splitter import CharacterTextSplitter\n",
    "from langchain.vectorstores import Qdrant\n",
    "from langchain.document_loaders import TextLoader\n",
    "\n",
    "load_dotenv()"
   ]
  },
  {
   "cell_type": "code",
   "execution_count": 3,
   "metadata": {},
   "outputs": [
    {
     "data": {
      "text/plain": [
       "Plan(steps=[Step(value=\"**Lack of Specificity in Cybersecurity Strategy**: The policy outlines the responsibilities of the Cybersecurity Committee, including reviewing and providing oversight on various aspects of the company's cybersecurity posture. However, it does not provide specific details about the cybersecurity strategy, expectations, or measures that will be used to ensure the effectiveness of the cybersecurity program.\"), Step(value=\"**Absence of Employee Awareness & Training Program**: The policy does not provide information about the company's approach to cybersecurity awareness and training for employees. Employee behavior is one of the most significant factors in many cybersecurity incidents and breaches, and an effective cybersecurity policy should outline how the company plans to manage this risk.\"), Step(value='**Lack of Clear Communication Channels**: The policy does not specify the communication channels that will be used to escalate potential security issues or breaches, which could slow response times and add confusion during a potential incident.'), Step(value='**No Mention of Regular Policy Review & Updates**: The cybersecurity landscape is constantly evolving, and policies need to be regularly reviewed and updated to ensure they remain effective and relevant. The policy does not mention how often it will be reviewed, who will conduct the review, or how changes will be communicated.'), Step(value=\"**Absence of Vendor Management**: The policy does not discuss how third-party vendors will be managed from a cybersecurity perspective. This is a significant potential risk area as vendors often have access to a company's network or data.\"), Step(value=\"**Lack of Metrics and KPIs**: The policy does not specify any metrics or key performance indicators (KPIs) that will be used to measure the effectiveness of the cybersecurity program. Without these, it can be challenging to demonstrate the program's success or identify areas that require improvement.\"), Step(value='**No Mention of Legal and Regulatory Compliance**: While the policy mentions risk management and audits, it does not explicitly state the importance of legal and regulatory compliance in areas such as data privacy and cybersecurity. Given the potential legal and financial repercussions of non-compliance, this should be a crucial component of the cybersecurity policy.')])"
      ]
     },
     "execution_count": 3,
     "metadata": {},
     "output_type": "execute_result"
    }
   ],
   "source": [
    "from services.langchain.chains import load_critisim_chain\n",
    "from langchain_experimental.plan_and_execute.schema import (\n",
    "    Plan,\n",
    "    PlanOutputParser,\n",
    "    Step,\n",
    ")\n",
    "import re\n",
    "\n",
    "chain = load_critisim_chain(verbose=False)\n",
    "with open(\"markdown/sample.md\") as f:\n",
    "    SAMPLE_DOCUMENT = f.read()\n",
    "\n",
    "output = chain.run(SAMPLE_DOCUMENT)\n",
    "\n",
    "critisims = output.split(\"\\n\\n\")\n",
    "\n",
    "class PlanningOutputParser(PlanOutputParser):\n",
    "    \"\"\"Planning output parser.\"\"\"\n",
    "\n",
    "    def parse(self, text: str) -> Plan:\n",
    "        steps = [Step(value=v) for v in re.split(\"\\n\\s*\\d+\\. \", text)[1:]]\n",
    "        return Plan(steps=steps)\n",
    "\n",
    "parser = PlanningOutputParser()\n",
    "plan = parser.parse(output)\n",
    "plan"
   ]
  },
  {
   "cell_type": "code",
   "execution_count": 5,
   "metadata": {},
   "outputs": [
    {
     "ename": "JSONDecodeError",
     "evalue": "Expecting property name enclosed in double quotes: line 1 column 2 (char 1)",
     "output_type": "error",
     "traceback": [
      "\u001b[0;31m---------------------------------------------------------------------------\u001b[0m",
      "\u001b[0;31mJSONDecodeError\u001b[0m                           Traceback (most recent call last)",
      "Cell \u001b[0;32mIn[5], line 4\u001b[0m\n\u001b[1;32m      1\u001b[0m \u001b[39mimport\u001b[39;00m \u001b[39mjson\u001b[39;00m\n\u001b[1;32m      3\u001b[0m \u001b[39mwith\u001b[39;00m \u001b[39mopen\u001b[39m(\u001b[39m\"\u001b[39m\u001b[39mtest.json\u001b[39m\u001b[39m\"\u001b[39m, \u001b[39m\"\u001b[39m\u001b[39mr\u001b[39m\u001b[39m\"\u001b[39m) \u001b[39mas\u001b[39;00m f:\n\u001b[0;32m----> 4\u001b[0m     data \u001b[39m=\u001b[39m json\u001b[39m.\u001b[39;49mloads(f\u001b[39m.\u001b[39;49mread())\n\u001b[1;32m      5\u001b[0m     \u001b[39mprint\u001b[39m(\u001b[39mlist\u001b[39m(data\u001b[39m.\u001b[39mkeys()))\n",
      "File \u001b[0;32m/Library/Frameworks/Python.framework/Versions/3.10/lib/python3.10/json/__init__.py:346\u001b[0m, in \u001b[0;36mloads\u001b[0;34m(s, cls, object_hook, parse_float, parse_int, parse_constant, object_pairs_hook, **kw)\u001b[0m\n\u001b[1;32m    341\u001b[0m     s \u001b[39m=\u001b[39m s\u001b[39m.\u001b[39mdecode(detect_encoding(s), \u001b[39m'\u001b[39m\u001b[39msurrogatepass\u001b[39m\u001b[39m'\u001b[39m)\n\u001b[1;32m    343\u001b[0m \u001b[39mif\u001b[39;00m (\u001b[39mcls\u001b[39m \u001b[39mis\u001b[39;00m \u001b[39mNone\u001b[39;00m \u001b[39mand\u001b[39;00m object_hook \u001b[39mis\u001b[39;00m \u001b[39mNone\u001b[39;00m \u001b[39mand\u001b[39;00m\n\u001b[1;32m    344\u001b[0m         parse_int \u001b[39mis\u001b[39;00m \u001b[39mNone\u001b[39;00m \u001b[39mand\u001b[39;00m parse_float \u001b[39mis\u001b[39;00m \u001b[39mNone\u001b[39;00m \u001b[39mand\u001b[39;00m\n\u001b[1;32m    345\u001b[0m         parse_constant \u001b[39mis\u001b[39;00m \u001b[39mNone\u001b[39;00m \u001b[39mand\u001b[39;00m object_pairs_hook \u001b[39mis\u001b[39;00m \u001b[39mNone\u001b[39;00m \u001b[39mand\u001b[39;00m \u001b[39mnot\u001b[39;00m kw):\n\u001b[0;32m--> 346\u001b[0m     \u001b[39mreturn\u001b[39;00m _default_decoder\u001b[39m.\u001b[39;49mdecode(s)\n\u001b[1;32m    347\u001b[0m \u001b[39mif\u001b[39;00m \u001b[39mcls\u001b[39m \u001b[39mis\u001b[39;00m \u001b[39mNone\u001b[39;00m:\n\u001b[1;32m    348\u001b[0m     \u001b[39mcls\u001b[39m \u001b[39m=\u001b[39m JSONDecoder\n",
      "File \u001b[0;32m/Library/Frameworks/Python.framework/Versions/3.10/lib/python3.10/json/decoder.py:337\u001b[0m, in \u001b[0;36mJSONDecoder.decode\u001b[0;34m(self, s, _w)\u001b[0m\n\u001b[1;32m    332\u001b[0m \u001b[39mdef\u001b[39;00m \u001b[39mdecode\u001b[39m(\u001b[39mself\u001b[39m, s, _w\u001b[39m=\u001b[39mWHITESPACE\u001b[39m.\u001b[39mmatch):\n\u001b[1;32m    333\u001b[0m \u001b[39m    \u001b[39m\u001b[39m\"\"\"Return the Python representation of ``s`` (a ``str`` instance\u001b[39;00m\n\u001b[1;32m    334\u001b[0m \u001b[39m    containing a JSON document).\u001b[39;00m\n\u001b[1;32m    335\u001b[0m \n\u001b[1;32m    336\u001b[0m \u001b[39m    \"\"\"\u001b[39;00m\n\u001b[0;32m--> 337\u001b[0m     obj, end \u001b[39m=\u001b[39m \u001b[39mself\u001b[39;49m\u001b[39m.\u001b[39;49mraw_decode(s, idx\u001b[39m=\u001b[39;49m_w(s, \u001b[39m0\u001b[39;49m)\u001b[39m.\u001b[39;49mend())\n\u001b[1;32m    338\u001b[0m     end \u001b[39m=\u001b[39m _w(s, end)\u001b[39m.\u001b[39mend()\n\u001b[1;32m    339\u001b[0m     \u001b[39mif\u001b[39;00m end \u001b[39m!=\u001b[39m \u001b[39mlen\u001b[39m(s):\n",
      "File \u001b[0;32m/Library/Frameworks/Python.framework/Versions/3.10/lib/python3.10/json/decoder.py:353\u001b[0m, in \u001b[0;36mJSONDecoder.raw_decode\u001b[0;34m(self, s, idx)\u001b[0m\n\u001b[1;32m    344\u001b[0m \u001b[39m\u001b[39m\u001b[39m\"\"\"Decode a JSON document from ``s`` (a ``str`` beginning with\u001b[39;00m\n\u001b[1;32m    345\u001b[0m \u001b[39ma JSON document) and return a 2-tuple of the Python\u001b[39;00m\n\u001b[1;32m    346\u001b[0m \u001b[39mrepresentation and the index in ``s`` where the document ended.\u001b[39;00m\n\u001b[0;32m   (...)\u001b[0m\n\u001b[1;32m    350\u001b[0m \n\u001b[1;32m    351\u001b[0m \u001b[39m\"\"\"\u001b[39;00m\n\u001b[1;32m    352\u001b[0m \u001b[39mtry\u001b[39;00m:\n\u001b[0;32m--> 353\u001b[0m     obj, end \u001b[39m=\u001b[39m \u001b[39mself\u001b[39;49m\u001b[39m.\u001b[39;49mscan_once(s, idx)\n\u001b[1;32m    354\u001b[0m \u001b[39mexcept\u001b[39;00m \u001b[39mStopIteration\u001b[39;00m \u001b[39mas\u001b[39;00m err:\n\u001b[1;32m    355\u001b[0m     \u001b[39mraise\u001b[39;00m JSONDecodeError(\u001b[39m\"\u001b[39m\u001b[39mExpecting value\u001b[39m\u001b[39m\"\u001b[39m, s, err\u001b[39m.\u001b[39mvalue) \u001b[39mfrom\u001b[39;00m \u001b[39mNone\u001b[39;00m\n",
      "\u001b[0;31mJSONDecodeError\u001b[0m: Expecting property name enclosed in double quotes: line 1 column 2 (char 1)"
     ]
    }
   ],
   "source": [
    "import json\n",
    "\n",
    "with open(\"test.json\", \"r\") as f:\n",
    "    data = json.loads(f.read())\n",
    "    print(list(data.keys()))"
   ]
  },
  {
   "cell_type": "code",
   "execution_count": 4,
   "metadata": {},
   "outputs": [
    {
     "data": {
      "text/plain": [
       "Plan(steps=[Step(value=\"**Employee Training**: The policy doesn't explicitly mention the training of employees in cybersecurity awareness and best practices. Since human error is often a significant cybersecurity risk, regular training for all employees is critical.\"), Step(value='**Third-Party Risk Management**: The policy mentions third-party audits but does not clearly address the management of cybersecurity risks associated with third-party vendors or service providers. A comprehensive policy should include procedures for assessing and mitigating risks from third parties.'), Step(value='**Regular Policy Update**: The policy does not explicitly state how often it will be reviewed and updated. Given the rapidly changing nature of cybersecurity threats, it is advisable to review and update the policy at least annually or whenever there are significant changes in the company’s IT environment.'), Step(value='**Incident Reporting**: The policy lacks a clear process for reporting cybersecurity incidents. It is crucial to have a well-structured reporting mechanism to ensure prompt response to incidents.'), Step(value='**Cybersecurity Metrics**: The policy does not mention any metrics or key performance indicators (KPIs) for measuring the effectiveness of the cybersecurity strategy. Metrics could include the number of attempted breaches, successful breaches, identified vulnerabilities, or employee training completion rates.'), Step(value='**Specific Technologies**: The policy does not mention any specific technologies or tools that will be used for cybersecurity. While it is not always necessary to list these in a policy document, it can sometimes help to ensure that all bases are covered.\\n\\n')])"
      ]
     },
     "execution_count": 4,
     "metadata": {},
     "output_type": "execute_result"
    }
   ],
   "source": [
    "from services.langchain.chains import load_critisim_planner, load_redrafting_chain\n",
    "from langchain.chat_models import ChatOpenAI\n",
    "\n",
    "llm = ChatOpenAI(model_name=\"gpt-4\")\n",
    "planner = load_critisim_planner(llm=llm)\n",
    "drafter = load_redrafting_chain(llm=llm)\n",
    "\n",
    "with open(\"markdown/sample.md\") as f:\n",
    "    SAMPLE_DOCUMENT = f.read()\n",
    "\n",
    "plan = planner.plan({ \"input\": SAMPLE_DOCUMENT })\n",
    "\n",
    "for step in plan.steps:\n",
    "    print(step.value)\n",
    "    output = drafter({ \"critisim\": step.value, \"context\": SAMPLE_DOCUMENT })\n"
   ]
  }
 ],
 "metadata": {
  "kernelspec": {
   "display_name": ".venv",
   "language": "python",
   "name": "python3"
  },
  "language_info": {
   "codemirror_mode": {
    "name": "ipython",
    "version": 3
   },
   "file_extension": ".py",
   "mimetype": "text/x-python",
   "name": "python",
   "nbconvert_exporter": "python",
   "pygments_lexer": "ipython3",
   "version": "3.10.0"
  },
  "orig_nbformat": 4
 },
 "nbformat": 4,
 "nbformat_minor": 2
}
