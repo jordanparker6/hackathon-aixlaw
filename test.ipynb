{
 "cells": [
  {
   "cell_type": "code",
   "execution_count": null,
   "metadata": {},
   "outputs": [],
   "source": [
    "import os\n",
    "from dotenv import load_dotenv\n",
    "from langchain.embeddings.openai import OpenAIEmbeddings\n",
    "from langchain.text_splitter import CharacterTextSplitter\n",
    "from langchain.vectorstores import Qdrant\n",
    "from langchain.document_loaders import TextLoader\n",
    "\n",
    "load_dotenv()"
   ]
  },
  {
   "cell_type": "code",
   "execution_count": 3,
   "metadata": {},
   "outputs": [
    {
     "data": {
      "text/plain": [
       "[PosixPath('docs/forms/form10-k.pdf'),\n",
       " PosixPath('docs/forms/form8-k.pdf'),\n",
       " PosixPath('docs/law/sec-adopts-mandatory-cybersecurity-disclosure-rules.pdf'),\n",
       " PosixPath('docs/law/33-11216.pdf'),\n",
       " PosixPath('docs/law/33-11216-fact-sheet.pdf'),\n",
       " PosixPath('docs/soc2_reports/pwm-auditors-report-gs007-controls-assurance-report_2019 (1).pdf'),\n",
       " PosixPath('docs/soc2_reports/Microsoft_General_-_NGP_PIMS_SSAE_18_SOC_2_Report.pdf'),\n",
       " PosixPath('docs/accounting_audit/408147977-Sample-Report-PwC.pdf'),\n",
       " PosixPath('docs/policies/CG_docs.pdf'),\n",
       " PosixPath('docs/policies/1204.pdf'),\n",
       " PosixPath('docs/policies/us-audit-committee-resource-guide-appendix-a.pdf'),\n",
       " PosixPath('docs/pentest_audit/Sample-Penetration-Test-Report-PurpleSec.pdf'),\n",
       " PosixPath('docs/annual_reports/c3cc692b-90be-45c8-a5f8-319017c03643.pdf')]"
      ]
     },
     "execution_count": 3,
     "metadata": {},
     "output_type": "execute_result"
    }
   ],
   "source": [
    "from pathlib import Path\n",
    "\n",
    "files = list(Path(\"docs\").glob(\"**/*.pdf\"))\n",
    "files"
   ]
  },
  {
   "cell_type": "code",
   "execution_count": null,
   "metadata": {},
   "outputs": [],
   "source": [
    "from service.convert import pdf_to_markdown\n",
    "\n",
    "pdf_to_markdown(files[0])"
   ]
  },
  {
   "cell_type": "code",
   "execution_count": null,
   "metadata": {},
   "outputs": [],
   "source": [
    "qdrant = Qdrant.from_documents(\n",
    "    docs,\n",
    "    embeddings,\n",
    "    url=url,\n",
    "    prefer_grpc=True,\n",
    "    api_key=os.getenv(\"QDRANT_API_KEY\"),\n",
    "    collection_name=\"my_documents\",\n",
    ")"
   ]
  }
 ],
 "metadata": {
  "kernelspec": {
   "display_name": ".venv",
   "language": "python",
   "name": "python3"
  },
  "language_info": {
   "codemirror_mode": {
    "name": "ipython",
    "version": 3
   },
   "file_extension": ".py",
   "mimetype": "text/x-python",
   "name": "python",
   "nbconvert_exporter": "python",
   "pygments_lexer": "ipython3",
   "version": "3.10.0"
  },
  "orig_nbformat": 4
 },
 "nbformat": 4,
 "nbformat_minor": 2
}
