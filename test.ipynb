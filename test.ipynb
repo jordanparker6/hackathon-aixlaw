{
 "cells": [
  {
   "cell_type": "code",
   "execution_count": 7,
   "metadata": {},
   "outputs": [
    {
     "data": {
      "text/plain": [
       "True"
      ]
     },
     "execution_count": 7,
     "metadata": {},
     "output_type": "execute_result"
    }
   ],
   "source": [
    "import os\n",
    "from dotenv import load_dotenv\n",
    "from langchain.embeddings.openai import OpenAIEmbeddings\n",
    "from langchain.text_splitter import CharacterTextSplitter\n",
    "from langchain.vectorstores import Qdrant\n",
    "from langchain.document_loaders import TextLoader\n",
    "\n",
    "load_dotenv()"
   ]
  },
  {
   "cell_type": "code",
   "execution_count": 3,
   "metadata": {},
   "outputs": [
    {
     "data": {
      "text/plain": [
       "Plan(steps=[Step(value=\"**Lack of Specificity in Cybersecurity Strategy**: The policy outlines the responsibilities of the Cybersecurity Committee, including reviewing and providing oversight on various aspects of the company's cybersecurity posture. However, it does not provide specific details about the cybersecurity strategy, expectations, or measures that will be used to ensure the effectiveness of the cybersecurity program.\"), Step(value=\"**Absence of Employee Awareness & Training Program**: The policy does not provide information about the company's approach to cybersecurity awareness and training for employees. Employee behavior is one of the most significant factors in many cybersecurity incidents and breaches, and an effective cybersecurity policy should outline how the company plans to manage this risk.\"), Step(value='**Lack of Clear Communication Channels**: The policy does not specify the communication channels that will be used to escalate potential security issues or breaches, which could slow response times and add confusion during a potential incident.'), Step(value='**No Mention of Regular Policy Review & Updates**: The cybersecurity landscape is constantly evolving, and policies need to be regularly reviewed and updated to ensure they remain effective and relevant. The policy does not mention how often it will be reviewed, who will conduct the review, or how changes will be communicated.'), Step(value=\"**Absence of Vendor Management**: The policy does not discuss how third-party vendors will be managed from a cybersecurity perspective. This is a significant potential risk area as vendors often have access to a company's network or data.\"), Step(value=\"**Lack of Metrics and KPIs**: The policy does not specify any metrics or key performance indicators (KPIs) that will be used to measure the effectiveness of the cybersecurity program. Without these, it can be challenging to demonstrate the program's success or identify areas that require improvement.\"), Step(value='**No Mention of Legal and Regulatory Compliance**: While the policy mentions risk management and audits, it does not explicitly state the importance of legal and regulatory compliance in areas such as data privacy and cybersecurity. Given the potential legal and financial repercussions of non-compliance, this should be a crucial component of the cybersecurity policy.')])"
      ]
     },
     "execution_count": 3,
     "metadata": {},
     "output_type": "execute_result"
    }
   ],
   "source": [
    "from services.langchain.chains import load_critisim_chain\n",
    "from langchain_experimental.plan_and_execute.schema import (\n",
    "    Plan,\n",
    "    PlanOutputParser,\n",
    "    Step,\n",
    ")\n",
    "import re\n",
    "\n",
    "chain = load_critisim_chain(verbose=False)\n",
    "with open(\"markdown/sample.md\") as f:\n",
    "    SAMPLE_DOCUMENT = f.read()\n",
    "\n",
    "output = chain.run(SAMPLE_DOCUMENT)\n",
    "\n",
    "critisims = output.split(\"\\n\\n\")\n",
    "\n",
    "class PlanningOutputParser(PlanOutputParser):\n",
    "    \"\"\"Planning output parser.\"\"\"\n",
    "\n",
    "    def parse(self, text: str) -> Plan:\n",
    "        steps = [Step(value=v) for v in re.split(\"\\n\\s*\\d+\\. \", text)[1:]]\n",
    "        return Plan(steps=steps)\n",
    "\n",
    "parser = PlanningOutputParser()\n",
    "plan = parser.parse(output)\n",
    "plan"
   ]
  },
  {
   "cell_type": "code",
   "execution_count": 4,
   "metadata": {},
   "outputs": [
    {
     "ename": "TypeError",
     "evalue": "loads() missing 1 required positional argument: 's'",
     "output_type": "error",
     "traceback": [
      "\u001b[0;31m---------------------------------------------------------------------------\u001b[0m",
      "\u001b[0;31mTypeError\u001b[0m                                 Traceback (most recent call last)",
      "Cell \u001b[0;32mIn[4], line 4\u001b[0m\n\u001b[1;32m      1\u001b[0m \u001b[39mimport\u001b[39;00m \u001b[39mjson\u001b[39;00m\n\u001b[1;32m      3\u001b[0m \u001b[39mwith\u001b[39;00m \u001b[39mopen\u001b[39m(\u001b[39m\"\u001b[39m\u001b[39mtest.json\u001b[39m\u001b[39m\"\u001b[39m, \u001b[39m\"\u001b[39m\u001b[39mr\u001b[39m\u001b[39m\"\u001b[39m) \u001b[39mas\u001b[39;00m f:\n\u001b[0;32m----> 4\u001b[0m     data \u001b[39m=\u001b[39m json\u001b[39m.\u001b[39;49mloads()\n\u001b[1;32m      5\u001b[0m     \u001b[39mprint\u001b[39m(\u001b[39mlist\u001b[39m(data\u001b[39m.\u001b[39mkeys()))\n",
      "\u001b[0;31mTypeError\u001b[0m: loads() missing 1 required positional argument: 's'"
     ]
    }
   ],
   "source": [
    "import json\n",
    "\n",
    "with open(\"test.json\", \"r\") as f:\n",
    "    data = json.loads(f.read())\n",
    "    print(list(data.keys()))"
   ]
  }
 ],
 "metadata": {
  "kernelspec": {
   "display_name": ".venv",
   "language": "python",
   "name": "python3"
  },
  "language_info": {
   "codemirror_mode": {
    "name": "ipython",
    "version": 3
   },
   "file_extension": ".py",
   "mimetype": "text/x-python",
   "name": "python",
   "nbconvert_exporter": "python",
   "pygments_lexer": "ipython3",
   "version": "3.10.0"
  },
  "orig_nbformat": 4
 },
 "nbformat": 4,
 "nbformat_minor": 2
}
